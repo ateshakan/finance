{
 "cells": [
  {
   "attachments": {},
   "cell_type": "markdown",
   "metadata": {},
   "source": [
    "## Least Squares Moving avarage\n",
    "You run an OLS regression for a certain window (n)\n",
    "\n",
    "X = Day0, Day1....\n",
    "\n",
    "y = Close Price\n",
    "\n",
    "For each day you need a prediction based on this regression over the past n days"
   ]
  },
  {
   "cell_type": "code",
   "execution_count": 1,
   "metadata": {},
   "outputs": [
    {
     "name": "stdout",
     "output_type": "stream",
     "text": [
      "Collecting yfinance\n",
      "  Downloading yfinance-0.2.3-py2.py3-none-any.whl (50 kB)\n",
      "Requirement already satisfied: requests>=2.26 in c:\\users\\utente\\anaconda3\\lib\\site-packages (from yfinance) (2.27.1)\n",
      "Collecting pytz>=2022.5\n",
      "  Downloading pytz-2022.7-py2.py3-none-any.whl (499 kB)\n",
      "Requirement already satisfied: cryptography>=3.3.2 in c:\\users\\utente\\anaconda3\\lib\\site-packages (from yfinance) (3.4.8)\n",
      "Requirement already satisfied: numpy>=1.16.5 in c:\\users\\utente\\anaconda3\\lib\\site-packages (from yfinance) (1.21.5)\n",
      "Collecting frozendict>=2.3.4\n",
      "  Downloading frozendict-2.3.4-cp39-cp39-win_amd64.whl (35 kB)\n",
      "Collecting html5lib>=1.1\n",
      "  Downloading html5lib-1.1-py2.py3-none-any.whl (112 kB)\n",
      "Collecting lxml>=4.9.1\n",
      "  Downloading lxml-4.9.2-cp39-cp39-win_amd64.whl (3.9 MB)\n",
      "Requirement already satisfied: pandas>=1.3.0 in c:\\users\\utente\\anaconda3\\lib\\site-packages (from yfinance) (1.4.2)\n",
      "Requirement already satisfied: appdirs>=1.4.4 in c:\\users\\utente\\anaconda3\\lib\\site-packages (from yfinance) (1.4.4)\n",
      "Requirement already satisfied: beautifulsoup4>=4.11.1 in c:\\users\\utente\\anaconda3\\lib\\site-packages (from yfinance) (4.11.1)\n",
      "Collecting multitasking>=0.0.7\n",
      "  Downloading multitasking-0.0.11-py3-none-any.whl (8.5 kB)\n",
      "Requirement already satisfied: soupsieve>1.2 in c:\\users\\utente\\anaconda3\\lib\\site-packages (from beautifulsoup4>=4.11.1->yfinance) (2.3.1)\n",
      "Requirement already satisfied: cffi>=1.12 in c:\\users\\utente\\anaconda3\\lib\\site-packages (from cryptography>=3.3.2->yfinance) (1.15.0)\n",
      "Requirement already satisfied: pycparser in c:\\users\\utente\\anaconda3\\lib\\site-packages (from cffi>=1.12->cryptography>=3.3.2->yfinance) (2.21)\n",
      "Requirement already satisfied: webencodings in c:\\users\\utente\\anaconda3\\lib\\site-packages (from html5lib>=1.1->yfinance) (0.5.1)\n",
      "Requirement already satisfied: six>=1.9 in c:\\users\\utente\\anaconda3\\lib\\site-packages (from html5lib>=1.1->yfinance) (1.16.0)\n",
      "Requirement already satisfied: python-dateutil>=2.8.1 in c:\\users\\utente\\anaconda3\\lib\\site-packages (from pandas>=1.3.0->yfinance) (2.8.2)\n",
      "Requirement already satisfied: urllib3<1.27,>=1.21.1 in c:\\users\\utente\\anaconda3\\lib\\site-packages (from requests>=2.26->yfinance) (1.26.9)\n",
      "Requirement already satisfied: certifi>=2017.4.17 in c:\\users\\utente\\anaconda3\\lib\\site-packages (from requests>=2.26->yfinance) (2021.10.8)\n",
      "Requirement already satisfied: charset-normalizer~=2.0.0 in c:\\users\\utente\\anaconda3\\lib\\site-packages (from requests>=2.26->yfinance) (2.0.4)\n",
      "Requirement already satisfied: idna<4,>=2.5 in c:\\users\\utente\\anaconda3\\lib\\site-packages (from requests>=2.26->yfinance) (3.3)\n",
      "Installing collected packages: pytz, multitasking, lxml, html5lib, frozendict, yfinance\n",
      "  Attempting uninstall: pytz\n",
      "    Found existing installation: pytz 2021.3\n",
      "    Uninstalling pytz-2021.3:\n",
      "      Successfully uninstalled pytz-2021.3\n",
      "  Attempting uninstall: lxml\n",
      "    Found existing installation: lxml 4.8.0\n",
      "    Uninstalling lxml-4.8.0:\n",
      "      Successfully uninstalled lxml-4.8.0\n",
      "Successfully installed frozendict-2.3.4 html5lib-1.1 lxml-4.9.2 multitasking-0.0.11 pytz-2022.7 yfinance-0.2.3\n"
     ]
    },
    {
     "name": "stderr",
     "output_type": "stream",
     "text": [
      "ERROR: pip's dependency resolver does not currently take into account all the packages that are installed. This behaviour is the source of the following dependency conflicts.\n",
      "conda-repo-cli 1.0.4 requires pathlib, which is not installed.\n"
     ]
    }
   ],
   "source": [
    "!pip install yfinance   # for gathering the finance data"
   ]
  },
  {
   "cell_type": "code",
   "execution_count": 3,
   "metadata": {},
   "outputs": [],
   "source": [
    "import yfinance as yf\n",
    "import pandas as pd\n",
    "import statsmodels.api as sm\n",
    "import matplotlib as plt"
   ]
  },
  {
   "cell_type": "code",
   "execution_count": 4,
   "metadata": {},
   "outputs": [
    {
     "name": "stdout",
     "output_type": "stream",
     "text": [
      "[*********************100%***********************]  1 of 1 completed\n"
     ]
    }
   ],
   "source": [
    "df = yf.download('AAPL',start=\"2020-01-01\")"
   ]
  },
  {
   "cell_type": "code",
   "execution_count": 5,
   "metadata": {},
   "outputs": [
    {
     "data": {
      "text/html": [
       "<div>\n",
       "<style scoped>\n",
       "    .dataframe tbody tr th:only-of-type {\n",
       "        vertical-align: middle;\n",
       "    }\n",
       "\n",
       "    .dataframe tbody tr th {\n",
       "        vertical-align: top;\n",
       "    }\n",
       "\n",
       "    .dataframe thead th {\n",
       "        text-align: right;\n",
       "    }\n",
       "</style>\n",
       "<table border=\"1\" class=\"dataframe\">\n",
       "  <thead>\n",
       "    <tr style=\"text-align: right;\">\n",
       "      <th></th>\n",
       "      <th>Open</th>\n",
       "      <th>High</th>\n",
       "      <th>Low</th>\n",
       "      <th>Close</th>\n",
       "      <th>Adj Close</th>\n",
       "      <th>Volume</th>\n",
       "    </tr>\n",
       "    <tr>\n",
       "      <th>Date</th>\n",
       "      <th></th>\n",
       "      <th></th>\n",
       "      <th></th>\n",
       "      <th></th>\n",
       "      <th></th>\n",
       "      <th></th>\n",
       "    </tr>\n",
       "  </thead>\n",
       "  <tbody>\n",
       "    <tr>\n",
       "      <th>2020-01-02</th>\n",
       "      <td>74.059998</td>\n",
       "      <td>75.150002</td>\n",
       "      <td>73.797501</td>\n",
       "      <td>75.087502</td>\n",
       "      <td>73.561539</td>\n",
       "      <td>135480400</td>\n",
       "    </tr>\n",
       "    <tr>\n",
       "      <th>2020-01-03</th>\n",
       "      <td>74.287498</td>\n",
       "      <td>75.144997</td>\n",
       "      <td>74.125000</td>\n",
       "      <td>74.357498</td>\n",
       "      <td>72.846367</td>\n",
       "      <td>146322800</td>\n",
       "    </tr>\n",
       "    <tr>\n",
       "      <th>2020-01-06</th>\n",
       "      <td>73.447502</td>\n",
       "      <td>74.989998</td>\n",
       "      <td>73.187500</td>\n",
       "      <td>74.949997</td>\n",
       "      <td>73.426819</td>\n",
       "      <td>118387200</td>\n",
       "    </tr>\n",
       "    <tr>\n",
       "      <th>2020-01-07</th>\n",
       "      <td>74.959999</td>\n",
       "      <td>75.224998</td>\n",
       "      <td>74.370003</td>\n",
       "      <td>74.597504</td>\n",
       "      <td>73.081490</td>\n",
       "      <td>108872000</td>\n",
       "    </tr>\n",
       "    <tr>\n",
       "      <th>2020-01-08</th>\n",
       "      <td>74.290001</td>\n",
       "      <td>76.110001</td>\n",
       "      <td>74.290001</td>\n",
       "      <td>75.797501</td>\n",
       "      <td>74.257111</td>\n",
       "      <td>132079200</td>\n",
       "    </tr>\n",
       "    <tr>\n",
       "      <th>...</th>\n",
       "      <td>...</td>\n",
       "      <td>...</td>\n",
       "      <td>...</td>\n",
       "      <td>...</td>\n",
       "      <td>...</td>\n",
       "      <td>...</td>\n",
       "    </tr>\n",
       "    <tr>\n",
       "      <th>2022-12-16</th>\n",
       "      <td>136.690002</td>\n",
       "      <td>137.649994</td>\n",
       "      <td>133.729996</td>\n",
       "      <td>134.509995</td>\n",
       "      <td>134.509995</td>\n",
       "      <td>160080100</td>\n",
       "    </tr>\n",
       "    <tr>\n",
       "      <th>2022-12-19</th>\n",
       "      <td>135.110001</td>\n",
       "      <td>135.199997</td>\n",
       "      <td>131.320007</td>\n",
       "      <td>132.369995</td>\n",
       "      <td>132.369995</td>\n",
       "      <td>79592600</td>\n",
       "    </tr>\n",
       "    <tr>\n",
       "      <th>2022-12-20</th>\n",
       "      <td>131.389999</td>\n",
       "      <td>133.250000</td>\n",
       "      <td>129.889999</td>\n",
       "      <td>132.300003</td>\n",
       "      <td>132.300003</td>\n",
       "      <td>77432800</td>\n",
       "    </tr>\n",
       "    <tr>\n",
       "      <th>2022-12-21</th>\n",
       "      <td>132.979996</td>\n",
       "      <td>136.809998</td>\n",
       "      <td>132.750000</td>\n",
       "      <td>135.449997</td>\n",
       "      <td>135.449997</td>\n",
       "      <td>85928000</td>\n",
       "    </tr>\n",
       "    <tr>\n",
       "      <th>2022-12-22</th>\n",
       "      <td>134.350006</td>\n",
       "      <td>134.559998</td>\n",
       "      <td>130.300003</td>\n",
       "      <td>132.229996</td>\n",
       "      <td>132.229996</td>\n",
       "      <td>77714600</td>\n",
       "    </tr>\n",
       "  </tbody>\n",
       "</table>\n",
       "<p>751 rows × 6 columns</p>\n",
       "</div>"
      ],
      "text/plain": [
       "                  Open        High  ...   Adj Close     Volume\n",
       "Date                                ...                       \n",
       "2020-01-02   74.059998   75.150002  ...   73.561539  135480400\n",
       "2020-01-03   74.287498   75.144997  ...   72.846367  146322800\n",
       "2020-01-06   73.447502   74.989998  ...   73.426819  118387200\n",
       "2020-01-07   74.959999   75.224998  ...   73.081490  108872000\n",
       "2020-01-08   74.290001   76.110001  ...   74.257111  132079200\n",
       "...                ...         ...  ...         ...        ...\n",
       "2022-12-16  136.690002  137.649994  ...  134.509995  160080100\n",
       "2022-12-19  135.110001  135.199997  ...  132.369995   79592600\n",
       "2022-12-20  131.389999  133.250000  ...  132.300003   77432800\n",
       "2022-12-21  132.979996  136.809998  ...  135.449997   85928000\n",
       "2022-12-22  134.350006  134.559998  ...  132.229996   77714600\n",
       "\n",
       "[751 rows x 6 columns]"
      ]
     },
     "execution_count": 5,
     "metadata": {},
     "output_type": "execute_result"
    }
   ],
   "source": [
    "df"
   ]
  },
  {
   "cell_type": "code",
   "execution_count": 7,
   "metadata": {},
   "outputs": [],
   "source": [
    "#run regression on just in first row\n",
    "window = 25\n",
    "test_df = df[:window] #25 rows"
   ]
  },
  {
   "cell_type": "code",
   "execution_count": 10,
   "metadata": {},
   "outputs": [
    {
     "data": {
      "text/plain": [
       "Date\n",
       "2020-01-02    75.087502\n",
       "2020-01-03    74.357498\n",
       "2020-01-06    74.949997\n",
       "2020-01-07    74.597504\n",
       "2020-01-08    75.797501\n",
       "2020-01-09    77.407501\n",
       "2020-01-10    77.582497\n",
       "2020-01-13    79.239998\n",
       "2020-01-14    78.169998\n",
       "2020-01-15    77.834999\n",
       "2020-01-16    78.809998\n",
       "2020-01-17    79.682503\n",
       "2020-01-21    79.142502\n",
       "2020-01-22    79.425003\n",
       "2020-01-23    79.807503\n",
       "2020-01-24    79.577499\n",
       "2020-01-27    77.237503\n",
       "2020-01-28    79.422501\n",
       "2020-01-29    81.084999\n",
       "2020-01-30    80.967499\n",
       "2020-01-31    77.377502\n",
       "2020-02-03    77.165001\n",
       "2020-02-04    79.712502\n",
       "2020-02-05    80.362503\n",
       "2020-02-06    81.302498\n",
       "Name: Close, dtype: float64"
      ]
     },
     "execution_count": 10,
     "metadata": {},
     "output_type": "execute_result"
    }
   ],
   "source": [
    "#for linear reg, we have to define our depenent variable\n",
    "y_ = test_df.Close\n",
    "y_"
   ]
  },
  {
   "cell_type": "code",
   "execution_count": 13,
   "metadata": {},
   "outputs": [
    {
     "data": {
      "text/plain": [
       "array([ 0,  1,  2,  3,  4,  5,  6,  7,  8,  9, 10, 11, 12, 13, 14, 15, 16,\n",
       "       17, 18, 19, 20, 21, 22, 23, 24], dtype=int64)"
      ]
     },
     "execution_count": 13,
     "metadata": {},
     "output_type": "execute_result"
    }
   ],
   "source": [
    "#our independent variable should be date but we have to convert it into integer values\n",
    "X_=pd.Series(range(len(test_df.index))).values\n",
    "X_"
   ]
  },
  {
   "cell_type": "code",
   "execution_count": 15,
   "metadata": {},
   "outputs": [],
   "source": [
    "#define the model \n",
    "model_ = sm.OLS(y_,sm.add_constant(X_)).fit()"
   ]
  },
  {
   "cell_type": "code",
   "execution_count": 16,
   "metadata": {},
   "outputs": [
    {
     "data": {
      "text/plain": [
       "const    75.714038\n",
       "x1        0.210839\n",
       "dtype: float64"
      ]
     },
     "execution_count": 16,
     "metadata": {},
     "output_type": "execute_result"
    }
   ],
   "source": [
    "model_.params"
   ]
  },
  {
   "cell_type": "code",
   "execution_count": 18,
   "metadata": {},
   "outputs": [
    {
     "data": {
      "text/plain": [
       "80.77416269155644"
      ]
     },
     "execution_count": 18,
     "metadata": {},
     "output_type": "execute_result"
    }
   ],
   "source": [
    "model_.predict()[-1]"
   ]
  },
  {
   "attachments": {},
   "cell_type": "markdown",
   "metadata": {},
   "source": [
    "## Running all regressions"
   ]
  },
  {
   "cell_type": "code",
   "execution_count": 27,
   "metadata": {},
   "outputs": [],
   "source": [
    "lsma_arr = []\n",
    "dates_arr = []\n",
    "\n",
    "for i in range(len(df)-24):\n",
    "    input_reg = df[i:25+i]\n",
    "    X = pd.Series(range(len(input_reg.index))).values\n",
    "    y = input_reg.Close\n",
    "    model = sm.OLS(y,sm.add_constant(X)).fit()\n",
    "    pred = model.predict()[-1]\n",
    "    lsma_arr.append(pred)\n",
    "    dates_arr.append(input_reg.iloc[-1].name)"
   ]
  },
  {
   "attachments": {},
   "cell_type": "markdown",
   "metadata": {},
   "source": [
    "## Data handling"
   ]
  },
  {
   "cell_type": "code",
   "execution_count": 28,
   "metadata": {},
   "outputs": [],
   "source": [
    "lsma_df = pd.DataFrame({'LSMA':lsma_arr},index = dates_arr)"
   ]
  },
  {
   "cell_type": "code",
   "execution_count": 30,
   "metadata": {},
   "outputs": [],
   "source": [
    "all_df = pd.concat([lsma_df,df],axis = 1)"
   ]
  },
  {
   "cell_type": "code",
   "execution_count": 32,
   "metadata": {},
   "outputs": [],
   "source": [
    "all_df.dropna(inplace=True)"
   ]
  },
  {
   "attachments": {},
   "cell_type": "markdown",
   "metadata": {},
   "source": [
    "## Simple trading strat using the indicator\n"
   ]
  },
  {
   "cell_type": "code",
   "execution_count": 34,
   "metadata": {},
   "outputs": [],
   "source": [
    "all_df['signal_buy'] = all_df.Close < all_df.LSMA\n",
    "all_df['signal_sell'] = all_df.Close > all_df.LSMA"
   ]
  },
  {
   "cell_type": "code",
   "execution_count": 35,
   "metadata": {},
   "outputs": [],
   "source": [
    "all_df['shifted_open'] = all_df.Open.shift(-1)"
   ]
  },
  {
   "cell_type": "code",
   "execution_count": 56,
   "metadata": {},
   "outputs": [],
   "source": [
    "in_position = False\n",
    "\n",
    "buydates , selldates = [], []\n",
    "buyprices, sellprices = [], []\n",
    "\n",
    "for index,row in all_df.iterrows():\n",
    "    if not in_position and row.signal_buy == True:\n",
    "        buyprice = row.shifted_open\n",
    "        buyprices.append(buyprice)\n",
    "        buydates.append(index)\n",
    "        in_position = True\n",
    "\n",
    "    if in_position and row.signal_sell == True:\n",
    "        sellprice = row.shifted_open\n",
    "        sellprices.append(sellprice)\n",
    "        selldates.append(index)\n",
    "        in_position = False\n"
   ]
  },
  {
   "attachments": {},
   "cell_type": "markdown",
   "metadata": {},
   "source": [
    "## Results and profit calculations from the predictions"
   ]
  },
  {
   "cell_type": "code",
   "execution_count": 57,
   "metadata": {},
   "outputs": [],
   "source": [
    "profits = pd.Series([(sell - buy)/buy for sell,buy in zip(sellprices,buyprices)])"
   ]
  },
  {
   "cell_type": "code",
   "execution_count": 61,
   "metadata": {},
   "outputs": [
    {
     "data": {
      "text/plain": [
       "2.140942402928979"
      ]
     },
     "execution_count": 61,
     "metadata": {},
     "output_type": "execute_result"
    }
   ],
   "source": [
    "(profits+1).prod()"
   ]
  },
  {
   "cell_type": "code",
   "execution_count": 67,
   "metadata": {},
   "outputs": [
    {
     "data": {
      "text/plain": [
       "<matplotlib.collections.PathCollection at 0x1b8fe060670>"
      ]
     },
     "execution_count": 67,
     "metadata": {},
     "output_type": "execute_result"
    },
    {
     "data": {
      "image/png": "[encoded data removed]",
      "text/plain": [
       "<Figure size 1440x576 with 1 Axes>"
      ]
     },
     "metadata": {
      "needs_background": "light"
     },
     "output_type": "display_data"
    }
   ],
   "source": [
    "import matplotlib.pyplot as plt\n",
    "plt.figure(figsize=(20,8))\n",
    "plt.plot(all_df[['Open','LSMA']])\n",
    "plt.scatter(buydates,all_df.loc[buydates].shifted_open,marker='^',color=\"green\")\n",
    "plt.scatter(selldates,all_df.loc[selldates].shifted_open,marker='v',color =\"red\")"
   ]
  },
  {
   "cell_type": "code",
   "execution_count": 68,
   "metadata": {},
   "outputs": [
    {
     "data": {
      "text/html": [
       "<div>\n",
       "<style scoped>\n",
       "    .dataframe tbody tr th:only-of-type {\n",
       "        vertical-align: middle;\n",
       "    }\n",
       "\n",
       "    .dataframe tbody tr th {\n",
       "        vertical-align: top;\n",
       "    }\n",
       "\n",
       "    .dataframe thead th {\n",
       "        text-align: right;\n",
       "    }\n",
       "</style>\n",
       "<table border=\"1\" class=\"dataframe\">\n",
       "  <thead>\n",
       "    <tr style=\"text-align: right;\">\n",
       "      <th></th>\n",
       "      <th>LSMA</th>\n",
       "      <th>Open</th>\n",
       "      <th>High</th>\n",
       "      <th>Low</th>\n",
       "      <th>Close</th>\n",
       "      <th>Adj Close</th>\n",
       "      <th>Volume</th>\n",
       "      <th>signal_buy</th>\n",
       "      <th>signal_sell</th>\n",
       "      <th>shifted_open</th>\n",
       "    </tr>\n",
       "  </thead>\n",
       "  <tbody>\n",
       "    <tr>\n",
       "      <th>2020-02-06</th>\n",
       "      <td>80.774163</td>\n",
       "      <td>80.642502</td>\n",
       "      <td>81.305000</td>\n",
       "      <td>80.065002</td>\n",
       "      <td>81.302498</td>\n",
       "      <td>79.650238</td>\n",
       "      <td>105425600</td>\n",
       "      <td>False</td>\n",
       "      <td>True</td>\n",
       "      <td>80.592499</td>\n",
       "    </tr>\n",
       "    <tr>\n",
       "      <th>2020-02-07</th>\n",
       "      <td>80.787501</td>\n",
       "      <td>80.592499</td>\n",
       "      <td>80.849998</td>\n",
       "      <td>79.500000</td>\n",
       "      <td>80.007500</td>\n",
       "      <td>78.567581</td>\n",
       "      <td>117684000</td>\n",
       "      <td>True</td>\n",
       "      <td>False</td>\n",
       "      <td>78.544998</td>\n",
       "    </tr>\n",
       "    <tr>\n",
       "      <th>2020-02-10</th>\n",
       "      <td>80.754316</td>\n",
       "      <td>78.544998</td>\n",
       "      <td>80.387497</td>\n",
       "      <td>78.462502</td>\n",
       "      <td>80.387497</td>\n",
       "      <td>78.940742</td>\n",
       "      <td>109348800</td>\n",
       "      <td>True</td>\n",
       "      <td>False</td>\n",
       "      <td>80.900002</td>\n",
       "    </tr>\n",
       "    <tr>\n",
       "      <th>2020-02-11</th>\n",
       "      <td>80.639746</td>\n",
       "      <td>80.900002</td>\n",
       "      <td>80.974998</td>\n",
       "      <td>79.677498</td>\n",
       "      <td>79.902496</td>\n",
       "      <td>78.464462</td>\n",
       "      <td>94323200</td>\n",
       "      <td>True</td>\n",
       "      <td>False</td>\n",
       "      <td>80.367500</td>\n",
       "    </tr>\n",
       "    <tr>\n",
       "      <th>2020-02-12</th>\n",
       "      <td>80.737346</td>\n",
       "      <td>80.367500</td>\n",
       "      <td>81.805000</td>\n",
       "      <td>80.367500</td>\n",
       "      <td>81.800003</td>\n",
       "      <td>80.327827</td>\n",
       "      <td>113730400</td>\n",
       "      <td>False</td>\n",
       "      <td>True</td>\n",
       "      <td>81.047501</td>\n",
       "    </tr>\n",
       "    <tr>\n",
       "      <th>...</th>\n",
       "      <td>...</td>\n",
       "      <td>...</td>\n",
       "      <td>...</td>\n",
       "      <td>...</td>\n",
       "      <td>...</td>\n",
       "      <td>...</td>\n",
       "      <td>...</td>\n",
       "      <td>...</td>\n",
       "      <td>...</td>\n",
       "      <td>...</td>\n",
       "    </tr>\n",
       "    <tr>\n",
       "      <th>2022-12-16</th>\n",
       "      <td>140.039602</td>\n",
       "      <td>136.690002</td>\n",
       "      <td>137.649994</td>\n",
       "      <td>133.729996</td>\n",
       "      <td>134.509995</td>\n",
       "      <td>134.509995</td>\n",
       "      <td>160080100</td>\n",
       "      <td>True</td>\n",
       "      <td>False</td>\n",
       "      <td>135.110001</td>\n",
       "    </tr>\n",
       "    <tr>\n",
       "      <th>2022-12-19</th>\n",
       "      <td>138.324925</td>\n",
       "      <td>135.110001</td>\n",
       "      <td>135.199997</td>\n",
       "      <td>131.320007</td>\n",
       "      <td>132.369995</td>\n",
       "      <td>132.369995</td>\n",
       "      <td>79592600</td>\n",
       "      <td>True</td>\n",
       "      <td>False</td>\n",
       "      <td>131.389999</td>\n",
       "    </tr>\n",
       "    <tr>\n",
       "      <th>2022-12-20</th>\n",
       "      <td>136.646064</td>\n",
       "      <td>131.389999</td>\n",
       "      <td>133.250000</td>\n",
       "      <td>129.889999</td>\n",
       "      <td>132.300003</td>\n",
       "      <td>132.300003</td>\n",
       "      <td>77432800</td>\n",
       "      <td>True</td>\n",
       "      <td>False</td>\n",
       "      <td>132.979996</td>\n",
       "    </tr>\n",
       "    <tr>\n",
       "      <th>2022-12-21</th>\n",
       "      <td>135.730432</td>\n",
       "      <td>132.979996</td>\n",
       "      <td>136.809998</td>\n",
       "      <td>132.750000</td>\n",
       "      <td>135.449997</td>\n",
       "      <td>135.449997</td>\n",
       "      <td>85928000</td>\n",
       "      <td>True</td>\n",
       "      <td>False</td>\n",
       "      <td>134.350006</td>\n",
       "    </tr>\n",
       "    <tr>\n",
       "      <th>2022-12-22</th>\n",
       "      <td>134.364000</td>\n",
       "      <td>134.350006</td>\n",
       "      <td>134.559998</td>\n",
       "      <td>130.300003</td>\n",
       "      <td>132.229996</td>\n",
       "      <td>132.229996</td>\n",
       "      <td>77714600</td>\n",
       "      <td>True</td>\n",
       "      <td>False</td>\n",
       "      <td>NaN</td>\n",
       "    </tr>\n",
       "  </tbody>\n",
       "</table>\n",
       "<p>727 rows × 10 columns</p>\n",
       "</div>"
      ],
      "text/plain": [
       "                  LSMA        Open  ...  signal_sell  shifted_open\n",
       "2020-02-06   80.774163   80.642502  ...         True     80.592499\n",
       "2020-02-07   80.787501   80.592499  ...        False     78.544998\n",
       "2020-02-10   80.754316   78.544998  ...        False     80.900002\n",
       "2020-02-11   80.639746   80.900002  ...        False     80.367500\n",
       "2020-02-12   80.737346   80.367500  ...         True     81.047501\n",
       "...                ...         ...  ...          ...           ...\n",
       "2022-12-16  140.039602  136.690002  ...        False    135.110001\n",
       "2022-12-19  138.324925  135.110001  ...        False    131.389999\n",
       "2022-12-20  136.646064  131.389999  ...        False    132.979996\n",
       "2022-12-21  135.730432  132.979996  ...        False    134.350006\n",
       "2022-12-22  134.364000  134.350006  ...        False           NaN\n",
       "\n",
       "[727 rows x 10 columns]"
      ]
     },
     "execution_count": 68,
     "metadata": {},
     "output_type": "execute_result"
    }
   ],
   "source": []
  },
  {
   "cell_type": "code",
   "execution_count": null,
   "metadata": {},
   "outputs": [],
   "source": []
  }
 ],
 "metadata": {
  "kernelspec": {
   "display_name": "base",
   "language": "python",
   "name": "python3"
  },
  "language_info": {
   "codemirror_mode": {
    "name": "ipython",
    "version": 3
   },
   "file_extension": ".py",
   "mimetype": "text/x-python",
   "name": "python",
   "nbconvert_exporter": "python",
   "pygments_lexer": "ipython3",
   "version": "3.9.12"
  },
  "orig_nbformat": 4,
  "vscode": {
   "interpreter": {
    "hash": "e22643f84482d14816e82b9220943e4f049420cd30f37e95345ed589071eb480"
   }
  }
 },
 "nbformat": 4,
 "nbformat_minor": 2
}
